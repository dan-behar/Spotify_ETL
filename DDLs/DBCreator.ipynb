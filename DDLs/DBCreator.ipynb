{
 "cells": [
  {
   "attachments": {},
   "cell_type": "markdown",
   "metadata": {},
   "source": [
    "# Creador de estructuras en base de datos"
   ]
  },
  {
   "cell_type": "code",
   "execution_count": 1,
   "metadata": {},
   "outputs": [],
   "source": [
    "import psycopg2\n",
    "import pymysql\n",
    "from sqlalchemy import create_engine"
   ]
  },
  {
   "cell_type": "code",
   "execution_count": 2,
   "metadata": {},
   "outputs": [],
   "source": [
    "# conexion con servidor postgres. Use un contenedor de docker para conectarme a la base de datos\n",
    "conn = psycopg2.connect(\n",
    "    database = \"postgres\",\n",
    "    user = \"postgres\",\n",
    "    host = \"localhost\", \n",
    "    password = \"daniel123\", \n",
    "    port = \"5432\"\n",
    "    )\n",
    "\n",
    "cursor = conn.cursor()"
   ]
  },
  {
   "cell_type": "code",
   "execution_count": 3,
   "metadata": {},
   "outputs": [
    {
     "name": "stdout",
     "output_type": "stream",
     "text": [
      "Connection stablished to:  ('PostgreSQL 15.2 (Debian 15.2-1.pgdg110+1) on x86_64-pc-linux-gnu, compiled by gcc (Debian 10.2.1-6) 10.2.1 20210110, 64-bit',)\n"
     ]
    }
   ],
   "source": [
    "data = cursor.execute(\"select version();\")\n",
    "data = cursor.fetchone()\n",
    "print(\"Connection stablished to: \", data)"
   ]
  },
  {
   "attachments": {},
   "cell_type": "markdown",
   "metadata": {},
   "source": [
    "### Tabla d_artists"
   ]
  },
  {
   "cell_type": "code",
   "execution_count": 4,
   "metadata": {},
   "outputs": [],
   "source": [
    "cursor.execute(\"DROP TABLE IF EXISTS d_artists\")\n",
    "\n",
    "sql  = \"\"\"\n",
    "CREATE TABLE d_artists(\n",
    "    sk_id bigint PRIMARY KEY,\n",
    "    bk_id varchar(64),\n",
    "    name varchar(256)\n",
    ");\n",
    "\"\"\"\n",
    "\n",
    "cursor.execute(sql)\n",
    "conn.commit()"
   ]
  },
  {
   "attachments": {},
   "cell_type": "markdown",
   "metadata": {},
   "source": [
    "### Tabla d_albums"
   ]
  },
  {
   "cell_type": "code",
   "execution_count": 5,
   "metadata": {},
   "outputs": [],
   "source": [
    "cursor.execute(\"DROP TABLE IF EXISTS f_playlist_tracks\")\n",
    "cursor.execute(\"DROP TABLE IF EXISTS d_albums\")\n",
    "\n",
    "sql  = \"\"\"\n",
    "CREATE TABLE d_albums(\n",
    "    sk_id bigint PRIMARY KEY,\n",
    "    bk_id varchar(64),\n",
    "    name varchar(256)\n",
    ");\n",
    "\"\"\"\n",
    "\n",
    "cursor.execute(sql)\n",
    "conn.commit()"
   ]
  },
  {
   "attachments": {},
   "cell_type": "markdown",
   "metadata": {},
   "source": [
    "### Tabla d_playlists"
   ]
  },
  {
   "cell_type": "code",
   "execution_count": 6,
   "metadata": {},
   "outputs": [],
   "source": [
    "cursor.execute(\"DROP TABLE IF EXISTS d_playlists\")\n",
    "\n",
    "sql  = \"\"\"\n",
    "create table d_playlists\n",
    "(\n",
    "    sk_id            bigint PRIMARY KEY ,\n",
    "    bk_id            bigint,\n",
    "    name             varchar(64),\n",
    "    collaborative    bool,\n",
    "    last_modified_at timestamp,\n",
    "    num_followers    bigint,\n",
    "    num_edits        bigint\n",
    ");\n",
    "\"\"\"\n",
    "\n",
    "cursor.execute(sql)\n",
    "conn.commit()"
   ]
  },
  {
   "attachments": {},
   "cell_type": "markdown",
   "metadata": {},
   "source": [
    "### Tabla d_tracks"
   ]
  },
  {
   "cell_type": "code",
   "execution_count": 7,
   "metadata": {},
   "outputs": [],
   "source": [
    "cursor.execute(\"DROP TABLE IF EXISTS d_tracks\")\n",
    "\n",
    "sql  = \"\"\"\n",
    "CREATE TABLE d_tracks(\n",
    "    sk_id bigint PRIMARY KEY,\n",
    "    bk_id varchar(64),\n",
    "    name varchar(256),\n",
    "    duration bigint\n",
    ");\n",
    "\"\"\"\n",
    "\n",
    "cursor.execute(sql)\n",
    "conn.commit()"
   ]
  },
  {
   "attachments": {},
   "cell_type": "markdown",
   "metadata": {},
   "source": [
    "### Tabla f_playlists_tracks"
   ]
  },
  {
   "cell_type": "code",
   "execution_count": 8,
   "metadata": {},
   "outputs": [],
   "source": [
    "cursor.execute(\"DROP TABLE IF EXISTS f_playlist_tracks\")\n",
    "\n",
    "sql  = \"\"\"\n",
    "CREATE TABLE f_playlist_tracks(\n",
    "    id bigint primary key,\n",
    "    sk_playlist bigint,\n",
    "    sk_artist bigint,\n",
    "    sk_album bigint,\n",
    "    sk_track bigint,\n",
    "    track_position int,\n",
    "     CONSTRAINT fk_playlist\n",
    "      FOREIGN KEY(sk_playlist)\n",
    "\t  REFERENCES d_playlists(sk_id)\n",
    "\t  ON DELETE CASCADE,\n",
    "\t  CONSTRAINT fk_artist\n",
    "      FOREIGN KEY(sk_artist)\n",
    "\t  REFERENCES d_artists(sk_id)\n",
    "\t  ON DELETE CASCADE,\n",
    "\t  CONSTRAINT fk_album\n",
    "      FOREIGN KEY(sk_album)\n",
    "\t  REFERENCES d_albums(sk_id)\n",
    "\t  ON DELETE CASCADE,\n",
    "\t  CONSTRAINT fk_track\n",
    "      FOREIGN KEY(sk_track)\n",
    "\t  REFERENCES d_tracks(sk_id)\n",
    "\t  ON DELETE CASCADE\n",
    "\n",
    ");\n",
    "\"\"\"\n",
    "\n",
    "cursor.execute(sql)\n",
    "conn.commit()"
   ]
  },
  {
   "cell_type": "code",
   "execution_count": 9,
   "metadata": {},
   "outputs": [],
   "source": [
    "cursor.close()\n",
    "conn.close()"
   ]
  }
 ],
 "metadata": {
  "kernelspec": {
   "display_name": "Python 3",
   "language": "python",
   "name": "python3"
  },
  "language_info": {
   "codemirror_mode": {
    "name": "ipython",
    "version": 3
   },
   "file_extension": ".py",
   "mimetype": "text/x-python",
   "name": "python",
   "nbconvert_exporter": "python",
   "pygments_lexer": "ipython3",
   "version": "3.9.13"
  },
  "orig_nbformat": 4,
  "vscode": {
   "interpreter": {
    "hash": "a9960baf88259386db57c734c8604c8e4ab789688672644b3cf73fda24b112c6"
   }
  }
 },
 "nbformat": 4,
 "nbformat_minor": 2
}
